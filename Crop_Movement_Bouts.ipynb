{
 "cells": [
  {
   "cell_type": "code",
   "execution_count": null,
   "metadata": {},
   "outputs": [],
   "source": [
    "#INDEX \n",
    "\n",
    "#1. variables: user changes as needed - this should be the only part you have to change\n",
    "#2. dependencies and functions\n",
    "#3. read touch sensor data and save when touch sensors are active \n",
    "#4. calculate position per frame based on which touch sensors are active and make indices for movement bouts\n",
    "#5. calculate whether mouse is going forward or backward per movement bout \n",
    "#6. check your parsing is ok if you want \n",
    "#7. parse movement bouts into separate mat files \n",
    "#8. parse movement bouts into separate video files if you want "
   ]
  },
  {
   "cell_type": "code",
   "execution_count": 9,
   "metadata": {},
   "outputs": [],
   "source": [
    "#VARIABLES\n",
    "\n",
    "file_dir = '/Users/riccellit/Desktop/sensordata/cwa_S27_session01_seq1_gr00_2' #Full path to file+filename WITHOUT file type (eg no '.mat') \n",
    "#both video and sensor files need to have the same name \n",
    "\n",
    "\n",
    "#fill in information for outfile name \n",
    "\n",
    "fps = 30 #frames per second\n",
    "subject = 'mouse1' #subject\n",
    "session = '01' #session (2 digits, e.g. \"02\" if 2nd session)\n",
    "seq = '1' #1 or 2 \n",
    "grade = '00' #00 or 20 \n",
    "\n",
    "save_dir = '/Users/riccellit/Desktop/folder' #directory to save data in \n",
    "\n"
   ]
  },
  {
   "cell_type": "code",
   "execution_count": 2,
   "metadata": {},
   "outputs": [
    {
     "name": "stderr",
     "output_type": "stream",
     "text": [
      "/anaconda3/lib/python3.6/site-packages/h5py/__init__.py:36: FutureWarning: Conversion of the second argument of issubdtype from `float` to `np.floating` is deprecated. In future, it will be treated as `np.float64 == np.dtype(float).type`.\n",
      "  from ._conv import register_converters as _register_converters\n"
     ]
    }
   ],
   "source": [
    "#DEPENDENCIES AND FUNCTIONS\n",
    "\n",
    "#ignore deprecation warnings\n",
    "import warnings\n",
    "def fxn():\n",
    "    warnings.warn(\"deprecated\", DeprecationWarning)\n",
    "with warnings.catch_warnings():\n",
    "    warnings.simplefilter(\"ignore\")\n",
    "    fxn()\n",
    "\n",
    "import os, sys \n",
    "import h5py\n",
    "import hdf5storage\n",
    "import numpy as np \n",
    "import numpy.ma as ma\n",
    "import pandas as pd\n",
    "import matplotlib.pyplot as plt \n",
    "import matplotlib.gridspec as gridspec\n",
    "import seaborn as sns\n",
    "from moviepy.video.io.ffmpeg_tools import ffmpeg_extract_subclip\n",
    "\n",
    "\n",
    "\n",
    "#function to identify 1 location in array \n",
    "def one_runs(a):\n",
    "    # Create an array that is 1 where a is 1, and pad each end with an extra 0.\n",
    "    iszero = np.concatenate(([0], np.equal(a, 1).view(np.int8), [0]))\n",
    "    absdiff = np.abs(np.diff(iszero))\n",
    "    # Runs start and end where absdiff is 1.\n",
    "    ranges = np.where(absdiff == 1)[0].reshape(-1, 2)\n",
    "    return ranges\n",
    "\n",
    "#function to identify 0 location in array \n",
    "def zero_runs(a):\n",
    "    # Create an array that is 1 where a is 0, and pad each end with an extra 0.\n",
    "    iszero = np.concatenate(([0], np.equal(a, 0).view(np.int8), [0]))\n",
    "    absdiff = np.abs(np.diff(iszero))\n",
    "    # Runs start and end where absdiff is 1.\n",
    "    ranges = np.where(absdiff == 1)[0].reshape(-1, 2)\n",
    "    return ranges\n",
    "\n",
    "#graph the linear regression \n",
    "def graph(lambdafx, x_range):  \n",
    "    x = np.array(x_range)  \n",
    "    y = lambdafx(x) \n",
    "    ax = plt.plot(x, y, color = 'tab:blue') "
   ]
  },
  {
   "cell_type": "code",
   "execution_count": 3,
   "metadata": {},
   "outputs": [],
   "source": [
    "#READ TOUCH SENSOR DATA \n",
    "\n",
    "f = h5py.File(file_dir+'.mat', 'r')\n",
    "\n",
    "Sensor = []\n",
    "\n",
    "#shape is approximating number frames \n",
    "struArray = f['sns']\n",
    "shape = struArray['sns'].shape\n",
    "shape = shape[0] - 1 \n",
    "\n",
    "while shape > 0: \n",
    "    value = f[struArray['sns'][shape,0]].value \n",
    "    Sensor.append(value)\n",
    "    shape = shape - 1 \n",
    "            \n",
    "#remove extraneous array bracket \n",
    "frames = np.array([e[0] for e in Sensor])\n",
    "\n",
    "#find location of 1 runs where 1 indicates touch and 0 indicates no touch(e.g. frames with touches)\n",
    "OnesLoc = []\n",
    "for array in frames.T: \n",
    "    OnesLoc.append(one_runs(array))"
   ]
  },
  {
   "cell_type": "code",
   "execution_count": 4,
   "metadata": {
    "scrolled": true
   },
   "outputs": [
    {
     "name": "stderr",
     "output_type": "stream",
     "text": [
      "/anaconda3/lib/python3.6/site-packages/ipykernel_launcher.py:11: RuntimeWarning: Mean of empty slice\n",
      "  # This is added back by InteractiveShellApp.init_path()\n"
     ]
    }
   ],
   "source": [
    "#GET POSITION OF MOUSE\n",
    "\n",
    "#parse out reward ports \n",
    "frames = frames.T[5:94]\n",
    "frames = frames.T\n",
    "\n",
    "#get average position based on sensors activated \n",
    "position = []\n",
    "for array in frames: \n",
    "    sensorindices = [i for i, x in enumerate(array) if x == 1]\n",
    "    position.append(np.nanmean(sensorindices))\n",
    "\n",
    "#movement defined when any sensor becomes first active, until sensor becomes not active \n",
    "mask = ma.masked_invalid(position)\n",
    "mask2 = [int(x) for x in ma.getmask(mask)]\n",
    "\n",
    "diff = np.diff((np.asarray(mask2)).flatten())\n",
    "indices = [i for i, x in enumerate(diff) if x != 0]\n",
    "\n",
    "#Add in the first and last indices as they will not be caught by the mask (eg, 0, max length)\n",
    "indices.append(len(frames)) \n",
    "indices = [0] + indices\n",
    "    "
   ]
  },
  {
   "cell_type": "code",
   "execution_count": 5,
   "metadata": {},
   "outputs": [],
   "source": [
    "#FIND DIRECTION OF MOVEMENT BOUT \n",
    "\n",
    "#where 1 is forward, 0 is backward \n",
    "#basically simple subtraction of position at beginning and end \n",
    "if np.isnan(position[(indices[0]+1)] - position[indices[1]]) == True: #sometimes indices offset \n",
    "    del indices[0]\n",
    "    \n",
    "direction = []\n",
    "for i,x in enumerate(indices):\n",
    "    if i < len(indices)-2: #because comparison won't work for last index \n",
    "        if (i+2)%2 == 0:  #if the number is even \n",
    "            if position[(indices[i]+1)] - (position[indices[i+1]]) > 40: \n",
    "                direction.append(1) #forward\n",
    "            elif position[(indices[i]+1)] - (position[indices[i+1]]) < -40: \n",
    "                direction.append(0) #backward \n",
    "            else: \n",
    "                direction.append(None) #not long enough bout of movement\n",
    "        else: \n",
    "            direction.append(direction[-1]) #append the last value for 2nd number  \n",
    "    else: \n",
    "        direction.append(direction[-1]) #append the last value \n",
    "        \n",
    "#making dataframe for visualization purposes and also functions\n",
    "d = {'indices':indices, 'direction':direction}\n",
    "df = pd.DataFrame(data=d)\n",
    "\n",
    "#making boolean mask of indices for forward and backward movement \n",
    "df['notna'] = pd.notna(df['direction'])\n",
    "df['forward'] = df['direction'] ==1\n",
    "df.forward = df.forward.astype(int)\n",
    "df['backward'] = df['direction'] == 0\n",
    "df.backward = df.backward.astype(int)\n",
    "\n",
    "#get ranges, do a little bit of clean up, and convert to ms \n",
    "fsample = [] #for graph check\n",
    "bsample =[] #for graph check \n",
    "\n",
    "\n",
    "for index, boolean in enumerate(df['forward'].values, start=0): \n",
    "    if index < len(df)-1:\n",
    "        if (index + 2) %2 ==0: \n",
    "            if boolean == 1: \n",
    "                fsample.append([df['indices'][index],df['indices'][index+1]])\n",
    "            else: \n",
    "                pass \n",
    "        else: \n",
    "            pass\n",
    "    else: \n",
    "        pass\n",
    "for index, boolean in enumerate(df['backward'].values, start=0): \n",
    "    if index < len(df)-1:\n",
    "        if (index + 2) %2 == 0: \n",
    "            if boolean == 1: \n",
    "                bsample.append([df['indices'][index],df['indices'][index+1]])\n",
    "            else: \n",
    "                pass \n",
    "        else: \n",
    "            pass \n",
    "    else: \n",
    "        pass \n",
    "    \n",
    "#cleaning up thte tails of array\n",
    "backwardRanges = []\n",
    "for array in bsample: \n",
    "    section = position[array[0]: array[1]]\n",
    "    index = np.where(section == np.nanmin(section))[0][len(np.where(section == np.nanmin(section))[0])-1] \n",
    "    index2 = np.where(section==np.nanmax(section))[0][0] \n",
    "    backwardRanges.append([(array[0] + index), (array[0] + index2)])\n",
    "forwardRanges = [] \n",
    "for array in fsample:\n",
    "    section = position[array[0]: array[1]]\n",
    "    index = np.where(section == np.nanmax(section))[0][len(np.where(section == np.nanmax(section))[0])-1]\n",
    "    index2 = np.where(section==np.nanmin(section))[0][0] \n",
    "    forwardRanges.append([(array[0] + index), (array[0] + index2)])\n"
   ]
  },
  {
   "cell_type": "code",
   "execution_count": 7,
   "metadata": {
    "scrolled": false
   },
   "outputs": [
    {
     "data": {
      "image/png": "[encoded data removed]",
      "text/plain": [
       "<Figure size 432x288 with 1 Axes>"
      ]
     },
     "metadata": {},
     "output_type": "display_data"
    },
    {
     "data": {
      "image/png": "[encoded data removed]",
      "text/plain": [
       "<Figure size 432x288 with 1 Axes>"
      ]
     },
     "metadata": {},
     "output_type": "display_data"
    }
   ],
   "source": [
    "#CHECK THAT INDICES MATCH POSITION \n",
    "\n",
    "# for array in forwardRanges: \n",
    "#     plt.plot(position, color = 'k') \n",
    "#     plt.scatter(array[0],[40], s= 2, color = 'r')\n",
    "#     plt.scatter(array[1],[40], s =2, color = 'r') \n",
    "# plt.show()\n",
    "\n",
    "\n",
    "# for array in backwardRanges: \n",
    "#     plt.plot(position, color = 'k') \n",
    "#     plt.scatter(array[0],[40], s= 2, color = 'b')\n",
    "#     plt.scatter(array[1],[40], s =2, color = 'b') \n",
    "# plt.show()\n"
   ]
  },
  {
   "cell_type": "code",
   "execution_count": 11,
   "metadata": {
    "scrolled": true
   },
   "outputs": [
    {
     "name": "stdout",
     "output_type": "stream",
     "text": [
      "Analyzing 1 forward...\n",
      "...file analyzed and saved.\n",
      "Analyzing 2 forward...\n",
      "...file analyzed and saved.\n",
      "Analyzing 3 forward...\n",
      "...file analyzed and saved.\n",
      "Analyzing 1 backward...\n",
      "...file analyzed and saved.\n",
      "Analyzing 2 backward...\n",
      "...file analyzed and saved.\n",
      "Analyzing 3 backward...\n",
      "...file analyzed and saved.\n"
     ]
    }
   ],
   "source": [
    "#PARSE OUT MOVEMENT BOUTS AND SAVE AS SEPARATE MAT FILES \n",
    "\n",
    "#doing forward trials \n",
    "trial = 0\n",
    "for array in forwardRanges:\n",
    "    trial = trial + 1\n",
    "    print(\"Analyzing \" + str(trial) + \" forward...\")\n",
    "        \n",
    "    cropSensor = Sensor[(array[0]): array[1]]\n",
    "            \n",
    "    matfiledata = {} \n",
    "    matfiledata[u'sns'] = cropSensor\n",
    "    hdf5storage.savemat(save_dir + '/' + str(subject) + '_' + str(trial) + '_f_' + str(session) + '.mat', \n",
    "                        matfiledata, format='7.3', oned_as='column')\n",
    "        \n",
    "    print(\"...file analyzed and saved.\")\n",
    "    \n",
    "#doing backward files    \n",
    "trial = 0\n",
    "for array in backwardRanges:\n",
    "    trial = trial + 1\n",
    "    print(\"Analyzing \" + str(trial) + \" backward...\")\n",
    "        \n",
    "    cropSensor = Sensor[(array[0]): array[1]]\n",
    "            \n",
    "    matfiledata = {} \n",
    "    matfiledata[u'sns'] = cropSensor\n",
    "    hdf5storage.savemat(save_dir + '/' + str(subject) + '_' + str(trial) + '_b_' + str(session) + '.mat', \n",
    "                        matfiledata, format='7.3', oned_as='column')\n",
    "        \n",
    "    print(\"...file analyzed and saved.\")\n",
    "\n"
   ]
  },
  {
   "cell_type": "code",
   "execution_count": null,
   "metadata": {},
   "outputs": [],
   "source": [
    "# #CROP VIDEO IF YOU WANT- THIS WILL TAKE A WHILE\n",
    "\n",
    "# trial = 0 \n",
    "# for array in forwardRanges:\n",
    "#     trial = trial+1\n",
    "    \n",
    "#     start_time = array[0]/fps #convert to s \n",
    "#     end_time = array[1]/fps\n",
    "    \n",
    "#     ffmpeg_extract_subclip(file_dir + \".avi\")\n",
    "\n",
    "# #print(trial)\n"
   ]
  }
 ],
 "metadata": {
  "kernelspec": {
   "display_name": "Python 3",
   "language": "python",
   "name": "python3"
  },
  "language_info": {
   "codemirror_mode": {
    "name": "ipython",
    "version": 3
   },
   "file_extension": ".py",
   "mimetype": "text/x-python",
   "name": "python",
   "nbconvert_exporter": "python",
   "pygments_lexer": "ipython3",
   "version": "3.6.5"
  }
 },
 "nbformat": 4,
 "nbformat_minor": 2
}
